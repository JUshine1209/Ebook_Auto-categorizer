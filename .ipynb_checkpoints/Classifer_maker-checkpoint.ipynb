{
 "cells": [
  {
   "cell_type": "code",
   "execution_count": 1,
   "metadata": {},
   "outputs": [],
   "source": [
    "import json\n",
    "import numpy as np\n",
    "import joblib\n",
    "from nltk.corpus import stopwords\n",
    "from sklearn.model_selection import train_test_split\n",
    "from sklearn.pipeline import Pipeline\n",
    "from sklearn.feature_extraction.text import CountVectorizer\n",
    "from sklearn.feature_extraction.text import TfidfTransformer\n",
    "from sklearn.svm import LinearSVC\n",
    "\n",
    "tmp_label_list = []\n",
    "json_file = open('all_book.json','r')\n",
    "json_data = json.load(json_file)\n",
    "json_file.close()\n",
    "\n",
    "for data in json_data:\n",
    "    tmp_label_list.append(ord(data['LoC_Class']) - 64)\n",
    "        \n",
    "text_label = np.array(tmp_label_list)"
   ]
  },
  {
   "cell_type": "code",
   "execution_count": 2,
   "metadata": {},
   "outputs": [],
   "source": [
    "text_data = []\n",
    "for data in json_data:\n",
    "    txtfile = open('randombooks/'+data['txt_path'][4:],'r',encoding='UTF8')\n",
    "    text_data.append(txtfile.read().lower())\n",
    "    txtfile.close()"
   ]
  },
  {
   "cell_type": "code",
   "execution_count": 3,
   "metadata": {},
   "outputs": [
    {
     "name": "stdout",
     "output_type": "stream",
     "text": [
      "0.8851037472901827\n"
     ]
    },
    {
     "data": {
      "text/plain": [
       "['Tfidf_SVM_model.pkl']"
      ]
     },
     "execution_count": 3,
     "metadata": {},
     "output_type": "execute_result"
    }
   ],
   "source": [
    "sw = stopwords.words('english')\n",
    "text_clf = Pipeline([\n",
    "    ('vect', CountVectorizer(stop_words = sw)),\n",
    "    ('tfidf',TfidfTransformer()),\n",
    "    ('clf', LinearSVC()),\n",
    "])\n",
    "\n",
    "X_train, X_test, y_train, y_test = train_test_split(text_data, text_label)\n",
    "\n",
    "text_clf.fit(X_train,y_train)\n",
    "predicted = text_clf.predict(X_test)\n",
    "print(np.mean(predicted == y_test))\n",
    "\n",
    "joblib.dump(text_clf,'Tfidf_SVM_model.pkl')\n"
   ]
  },
  {
   "cell_type": "code",
   "execution_count": null,
   "metadata": {},
   "outputs": [],
   "source": []
  }
 ],
 "metadata": {
  "kernelspec": {
   "display_name": "Python 3",
   "language": "python",
   "name": "python3"
  },
  "language_info": {
   "codemirror_mode": {
    "name": "ipython",
    "version": 3
   },
   "file_extension": ".py",
   "mimetype": "text/x-python",
   "name": "python",
   "nbconvert_exporter": "python",
   "pygments_lexer": "ipython3",
   "version": "3.7.9"
  }
 },
 "nbformat": 4,
 "nbformat_minor": 4
}
